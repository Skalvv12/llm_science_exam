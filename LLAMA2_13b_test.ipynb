{
  "nbformat": 4,
  "nbformat_minor": 0,
  "metadata": {
    "colab": {
      "provenance": [],
      "authorship_tag": "ABX9TyOBRa0nC8b55VtJr7WgodEi",
      "include_colab_link": true
    },
    "kernelspec": {
      "name": "python3",
      "display_name": "Python 3"
    },
    "language_info": {
      "name": "python"
    }
  },
  "cells": [
    {
      "cell_type": "markdown",
      "metadata": {
        "id": "view-in-github",
        "colab_type": "text"
      },
      "source": [
        "<a href=\"https://colab.research.google.com/github/Skalvv12/llm_science_exam/blob/master/LLAMA2_13b_test.ipynb\" target=\"_parent\"><img src=\"https://colab.research.google.com/assets/colab-badge.svg\" alt=\"Open In Colab\"/></a>"
      ]
    },
    {
      "cell_type": "code",
      "execution_count": null,
      "metadata": {
        "colab": {
          "base_uri": "https://localhost:8080/"
        },
        "id": "OImOJfbIBgFo",
        "outputId": "bc4a4269-7429-487b-cd42-2a9e206c5436"
      },
      "outputs": [
        {
          "output_type": "stream",
          "name": "stdout",
          "text": [
            "Looking in links: file:///kaggle/input/best-llm-starter-pack/dependencies/einops\n",
            "\u001b[33mWARNING: Location 'file:///kaggle/input/best-llm-starter-pack/dependencies/einops' is ignored: it is neither a file nor a directory.\u001b[0m\u001b[33m\n",
            "\u001b[0m\u001b[31mERROR: Could not find a version that satisfies the requirement einops (from versions: none)\u001b[0m\u001b[31m\n",
            "\u001b[0m\u001b[31mERROR: No matching distribution found for einops\u001b[0m\u001b[31m\n",
            "\u001b[0mLooking in links: file:///kaggle/input/best-llm-starter-pack/dependencies/bitsandbytes\n",
            "\u001b[33mWARNING: Location 'file:///kaggle/input/best-llm-starter-pack/dependencies/bitsandbytes' is ignored: it is neither a file nor a directory.\u001b[0m\u001b[33m\n",
            "\u001b[0m\u001b[31mERROR: Could not find a version that satisfies the requirement bitsandbytes (from versions: none)\u001b[0m\u001b[31m\n",
            "\u001b[0m\u001b[31mERROR: No matching distribution found for bitsandbytes\u001b[0m\u001b[31m\n",
            "\u001b[0mLooking in links: file:///kaggle/input/best-llm-starter-pack/dependencies/sentencepiece\n",
            "\u001b[33mWARNING: Location 'file:///kaggle/input/best-llm-starter-pack/dependencies/sentencepiece' is ignored: it is neither a file nor a directory.\u001b[0m\u001b[33m\n",
            "\u001b[0m\u001b[31mERROR: Could not find a version that satisfies the requirement sentencepiece (from versions: none)\u001b[0m\u001b[31m\n",
            "\u001b[0m\u001b[31mERROR: No matching distribution found for sentencepiece\u001b[0m\u001b[31m\n",
            "\u001b[0mLooking in links: file:///kaggle/input/best-llm-starter-pack/dependencies/accelerate\n",
            "\u001b[33mWARNING: Location 'file:///kaggle/input/best-llm-starter-pack/dependencies/accelerate' is ignored: it is neither a file nor a directory.\u001b[0m\u001b[33m\n",
            "\u001b[0m\u001b[31mERROR: Could not find a version that satisfies the requirement accelerate (from versions: none)\u001b[0m\u001b[31m\n",
            "\u001b[0m\u001b[31mERROR: No matching distribution found for accelerate\u001b[0m\u001b[31m\n",
            "\u001b[0mLooking in links: file:///kaggle/input/best-llm-starter-pack/dependencies/transformers\n",
            "\u001b[33mWARNING: Location 'file:///kaggle/input/best-llm-starter-pack/dependencies/transformers' is ignored: it is neither a file nor a directory.\u001b[0m\u001b[33m\n",
            "\u001b[0m\u001b[31mERROR: Could not find a version that satisfies the requirement transformers (from versions: none)\u001b[0m\u001b[31m\n",
            "\u001b[0m\u001b[31mERROR: No matching distribution found for transformers\u001b[0m\u001b[31m\n",
            "\u001b[0m"
          ]
        }
      ],
      "source": [
        "!pip install -U einops\n",
        "!pip install -U bitsandbytes\n",
        "!pip install -U sentencepiece\n",
        "!pip install -U accelerate\n",
        "!pip install -U transformers"
      ]
    },
    {
      "cell_type": "code",
      "source": [
        "from google.colab import drive\n",
        "drive.mount('/content/drive')\n"
      ],
      "metadata": {
        "id": "su7fMKpQBoLC",
        "colab": {
          "base_uri": "https://localhost:8080/"
        },
        "outputId": "5b92689d-fcd5-452f-ca5f-c370e3a09886"
      },
      "execution_count": 1,
      "outputs": [
        {
          "output_type": "stream",
          "name": "stdout",
          "text": [
            "Mounted at /content/drive\n"
          ]
        }
      ]
    },
    {
      "cell_type": "code",
      "source": [
        "!mkdir \"/content/drive/My Drive/DL_factory/llm_science_exam\"\n"
      ],
      "metadata": {
        "id": "Mvs9nHawFJkw"
      },
      "execution_count": 8,
      "outputs": []
    },
    {
      "cell_type": "code",
      "source": [
        "!git clone https://github.com/Skalvv12/llm_science_exam.git \"/content/drive/My Drive/DL_factory/llm_science_exam\""
      ],
      "metadata": {
        "colab": {
          "base_uri": "https://localhost:8080/"
        },
        "id": "utLbIJZqFw_9",
        "outputId": "0c8237e4-54fb-4dc9-b43d-9ca82c33008d"
      },
      "execution_count": 10,
      "outputs": [
        {
          "output_type": "stream",
          "name": "stdout",
          "text": [
            "Cloning into '/content/drive/My Drive/DL_factory/llm_science_exam'...\n",
            "remote: Enumerating objects: 14, done.\u001b[K\n",
            "remote: Counting objects: 100% (14/14), done.\u001b[K\n",
            "remote: Compressing objects: 100% (11/11), done.\u001b[K\n",
            "remote: Total 14 (delta 2), reused 11 (delta 2), pack-reused 0\u001b[K\n",
            "Receiving objects: 100% (14/14), 45.85 KiB | 3.27 MiB/s, done.\n",
            "Resolving deltas: 100% (2/2), done.\n"
          ]
        }
      ]
    },
    {
      "cell_type": "code",
      "source": [
        "%cd \"/content/drive/My Drive/DL_factory/llm_science_exam\"\n"
      ],
      "metadata": {
        "colab": {
          "base_uri": "https://localhost:8080/"
        },
        "id": "4cgN11GQIWn7",
        "outputId": "b7f856df-3a8d-406a-b541-d8de3f7582f7"
      },
      "execution_count": 2,
      "outputs": [
        {
          "output_type": "stream",
          "name": "stdout",
          "text": [
            "/content/drive/My Drive/DL_factory/llm_science_exam\n"
          ]
        }
      ]
    },
    {
      "cell_type": "code",
      "source": [
        "!pwd"
      ],
      "metadata": {
        "colab": {
          "base_uri": "https://localhost:8080/"
        },
        "id": "e2Oz_7cELzB6",
        "outputId": "21756cd5-0195-43e5-ee4e-0a7f491c6d95"
      },
      "execution_count": 3,
      "outputs": [
        {
          "output_type": "stream",
          "name": "stdout",
          "text": [
            "/content/drive/My Drive/DL_factory/llm_science_exam\n"
          ]
        }
      ]
    }
  ]
}